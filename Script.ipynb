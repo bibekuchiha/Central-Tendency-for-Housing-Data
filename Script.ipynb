{
  "nbformat": 4,
  "nbformat_minor": 0,
  "metadata": {
    "colab": {
      "name": "Script.ipynb",
      "provenance": []
    },
    "kernelspec": {
      "name": "python3",
      "display_name": "Python 3"
    }
  },
  "cells": [
    {
      "cell_type": "markdown",
      "metadata": {
        "id": "7YMW_5mxRCP7",
        "colab_type": "text"
      },
      "source": [
        "# Central Tendency for Housing Data\n",
        "In this project, we will find the mean, median, and mode cost of one-bedroom apartments in three of the five New York City boroughs: Brooklyn, Manhattan, and Queens.\n",
        "\n",
        "Using our findings, we will make conclusions about the cost of living in each of the boroughs. We will also discuss an important assumption that we make when we point out differences between the boroughs.\n",
        "\n",
        "We worked with [Streeteasy.com](https://streeteasy.com/) to collect this data. While we will only focus on the cost of one-bedroom apartments, the dataset includes a lot more information if you’re interested in asking your own questions about the Brooklyn, Manhattan, and Queens housing market."
      ]
    },
    {
      "cell_type": "code",
      "metadata": {
        "id": "2beLGQ6hIzoK",
        "colab_type": "code",
        "colab": {}
      },
      "source": [
        "# Import packages\n",
        "import numpy as np\n",
        "import pandas as pd\n",
        "from scipy import stats\n",
        "from matplotlib import pyplot as plt\n",
        "%matplotlib inline\n"
      ],
      "execution_count": 46,
      "outputs": []
    },
    {
      "cell_type": "code",
      "metadata": {
        "id": "mNswNdHEJtgs",
        "colab_type": "code",
        "colab": {}
      },
      "source": [
        "# Read in housing data\n",
        "brooklyn_one_bed = pd.read_csv('brooklyn-one-bed.csv')\n",
        "brooklyn_price = brooklyn_one_bed['rent']\n",
        "\n",
        "manhattan_one_bed = pd.read_csv('manhattan-one-bed.csv')\n",
        "manhattan_price = manhattan_one_bed['rent']\n",
        "\n",
        "queens_one_bed = pd.read_csv('queens-one-bed.csv')\n",
        "queens_price = queens_one_bed['rent']"
      ],
      "execution_count": 2,
      "outputs": []
    },
    {
      "cell_type": "code",
      "metadata": {
        "id": "KkpeJabzRhi6",
        "colab_type": "code",
        "colab": {
          "base_uri": "https://localhost:8080/",
          "height": 241
        },
        "outputId": "c82c65a6-8c62-4bea-f9bc-f4a87575eca7"
      },
      "source": [
        "#As dataset for all places looks like same. so we are olny inspecting brooklyn dataset.\n",
        "brooklyn_one_bed.head()"
      ],
      "execution_count": 50,
      "outputs": [
        {
          "output_type": "execute_result",
          "data": {
            "text/html": [
              "<div>\n",
              "<style scoped>\n",
              "    .dataframe tbody tr th:only-of-type {\n",
              "        vertical-align: middle;\n",
              "    }\n",
              "\n",
              "    .dataframe tbody tr th {\n",
              "        vertical-align: top;\n",
              "    }\n",
              "\n",
              "    .dataframe thead th {\n",
              "        text-align: right;\n",
              "    }\n",
              "</style>\n",
              "<table border=\"1\" class=\"dataframe\">\n",
              "  <thead>\n",
              "    <tr style=\"text-align: right;\">\n",
              "      <th></th>\n",
              "      <th>rental_id</th>\n",
              "      <th>rent</th>\n",
              "      <th>bedrooms</th>\n",
              "      <th>bathrooms</th>\n",
              "      <th>size_sqft</th>\n",
              "      <th>min_to_subway</th>\n",
              "      <th>floor</th>\n",
              "      <th>building_age_yrs</th>\n",
              "      <th>no_fee</th>\n",
              "      <th>has_roofdeck</th>\n",
              "      <th>has_washer_dryer</th>\n",
              "      <th>has_doorman</th>\n",
              "      <th>has_elevator</th>\n",
              "      <th>has_dishwasher</th>\n",
              "      <th>has_patio</th>\n",
              "      <th>has_gym</th>\n",
              "      <th>neighborhood</th>\n",
              "      <th>borough</th>\n",
              "    </tr>\n",
              "  </thead>\n",
              "  <tbody>\n",
              "    <tr>\n",
              "      <th>0</th>\n",
              "      <td>2869</td>\n",
              "      <td>3600</td>\n",
              "      <td>3.0</td>\n",
              "      <td>2</td>\n",
              "      <td>900</td>\n",
              "      <td>4</td>\n",
              "      <td>1.0</td>\n",
              "      <td>15</td>\n",
              "      <td>1</td>\n",
              "      <td>0</td>\n",
              "      <td>0</td>\n",
              "      <td>0</td>\n",
              "      <td>0</td>\n",
              "      <td>0</td>\n",
              "      <td>0</td>\n",
              "      <td>0</td>\n",
              "      <td>Williamsburg</td>\n",
              "      <td>Brooklyn</td>\n",
              "    </tr>\n",
              "    <tr>\n",
              "      <th>1</th>\n",
              "      <td>4318</td>\n",
              "      <td>3900</td>\n",
              "      <td>3.0</td>\n",
              "      <td>2</td>\n",
              "      <td>1000</td>\n",
              "      <td>4</td>\n",
              "      <td>9.0</td>\n",
              "      <td>8</td>\n",
              "      <td>0</td>\n",
              "      <td>0</td>\n",
              "      <td>0</td>\n",
              "      <td>0</td>\n",
              "      <td>1</td>\n",
              "      <td>0</td>\n",
              "      <td>0</td>\n",
              "      <td>0</td>\n",
              "      <td>Greenwood</td>\n",
              "      <td>Brooklyn</td>\n",
              "    </tr>\n",
              "    <tr>\n",
              "      <th>2</th>\n",
              "      <td>6265</td>\n",
              "      <td>2700</td>\n",
              "      <td>2.0</td>\n",
              "      <td>1</td>\n",
              "      <td>900</td>\n",
              "      <td>4</td>\n",
              "      <td>2.0</td>\n",
              "      <td>96</td>\n",
              "      <td>0</td>\n",
              "      <td>0</td>\n",
              "      <td>0</td>\n",
              "      <td>0</td>\n",
              "      <td>0</td>\n",
              "      <td>0</td>\n",
              "      <td>0</td>\n",
              "      <td>0</td>\n",
              "      <td>Gowanus</td>\n",
              "      <td>Brooklyn</td>\n",
              "    </tr>\n",
              "    <tr>\n",
              "      <th>3</th>\n",
              "      <td>24</td>\n",
              "      <td>4900</td>\n",
              "      <td>1.0</td>\n",
              "      <td>1</td>\n",
              "      <td>1216</td>\n",
              "      <td>6</td>\n",
              "      <td>3.0</td>\n",
              "      <td>88</td>\n",
              "      <td>0</td>\n",
              "      <td>0</td>\n",
              "      <td>0</td>\n",
              "      <td>0</td>\n",
              "      <td>0</td>\n",
              "      <td>0</td>\n",
              "      <td>0</td>\n",
              "      <td>0</td>\n",
              "      <td>Brooklyn Heights</td>\n",
              "      <td>Brooklyn</td>\n",
              "    </tr>\n",
              "    <tr>\n",
              "      <th>4</th>\n",
              "      <td>9481</td>\n",
              "      <td>3900</td>\n",
              "      <td>0.0</td>\n",
              "      <td>1</td>\n",
              "      <td>1100</td>\n",
              "      <td>3</td>\n",
              "      <td>4.0</td>\n",
              "      <td>85</td>\n",
              "      <td>1</td>\n",
              "      <td>0</td>\n",
              "      <td>0</td>\n",
              "      <td>0</td>\n",
              "      <td>0</td>\n",
              "      <td>0</td>\n",
              "      <td>0</td>\n",
              "      <td>0</td>\n",
              "      <td>Williamsburg</td>\n",
              "      <td>Brooklyn</td>\n",
              "    </tr>\n",
              "  </tbody>\n",
              "</table>\n",
              "</div>"
            ],
            "text/plain": [
              "   rental_id  rent  bedrooms  ...  has_gym      neighborhood   borough\n",
              "0       2869  3600       3.0  ...        0      Williamsburg  Brooklyn\n",
              "1       4318  3900       3.0  ...        0         Greenwood  Brooklyn\n",
              "2       6265  2700       2.0  ...        0           Gowanus  Brooklyn\n",
              "3         24  4900       1.0  ...        0  Brooklyn Heights  Brooklyn\n",
              "4       9481  3900       0.0  ...        0      Williamsburg  Brooklyn\n",
              "\n",
              "[5 rows x 18 columns]"
            ]
          },
          "metadata": {
            "tags": []
          },
          "execution_count": 50
        }
      ]
    },
    {
      "cell_type": "code",
      "metadata": {
        "id": "h1rY4_jtRm1E",
        "colab_type": "code",
        "colab": {
          "base_uri": "https://localhost:8080/",
          "height": 119
        },
        "outputId": "d2a2a951-94b1-4b11-e126-f9343b1d06ac"
      },
      "source": [
        "brooklyn_price.head()"
      ],
      "execution_count": 48,
      "outputs": [
        {
          "output_type": "execute_result",
          "data": {
            "text/plain": [
              "0    3600\n",
              "1    3900\n",
              "2    2700\n",
              "3    4900\n",
              "4    3900\n",
              "Name: rent, dtype: int64"
            ]
          },
          "metadata": {
            "tags": []
          },
          "execution_count": 48
        }
      ]
    },
    {
      "cell_type": "code",
      "metadata": {
        "id": "IA5bUj3aJx1n",
        "colab_type": "code",
        "colab": {}
      },
      "source": [
        "# Add mean calculations below \n",
        "brooklyn_mean = np.average(brooklyn_price)\n",
        "manhattan_mean = np.average(manhattan_price)\n",
        "queens_mean = np.average(queens_price)\n",
        "\n",
        "# Add median calculations below\n",
        "brooklyn_median = np.median(brooklyn_price)\n",
        "manhattan_median = np.median(manhattan_price)\n",
        "queens_median = np.median(queens_price)\n",
        "\n",
        "# Add mode calculations below\n",
        "brooklyn_mode = stats.mode(brooklyn_price)\n",
        "manhattan_mode = stats.mode(manhattan_price)\n",
        "queens_mode = stats.mode(queens_price)"
      ],
      "execution_count": 36,
      "outputs": []
    },
    {
      "cell_type": "code",
      "metadata": {
        "id": "MCCb6RfHJ2Z7",
        "colab_type": "code",
        "colab": {
          "base_uri": "https://localhost:8080/",
          "height": 68
        },
        "outputId": "8803b273-99ca-492f-81e4-312714ccf95d"
      },
      "source": [
        "# Mean\n",
        "try:\n",
        "    print(\"The mean price in Brooklyn is \" + str(round(brooklyn_mean, 2)))\n",
        "except NameError:\n",
        "    print(\"The mean price in Brooklyn is not yet defined.\")\n",
        "try:\n",
        "    print(\"The mean price in Manhattan is \" + str(round(manhattan_mean, 2)))\n",
        "except NameError:\n",
        "    print(\"The mean in Manhattan is not yet defined.\")\n",
        "try:\n",
        "    print(\"The mean price in Queens is \" + str(round(queens_mean, 2)))\n",
        "except NameError:\n",
        "    print(\"The mean price in Queens is not yet defined.\")\n",
        "    "
      ],
      "execution_count": 5,
      "outputs": [
        {
          "output_type": "stream",
          "text": [
            "The mean price in Brooklyn is 3327.4\n",
            "The mean price in Manhattan is 3993.48\n",
            "The mean price in Queens is 2346.25\n"
          ],
          "name": "stdout"
        }
      ]
    },
    {
      "cell_type": "code",
      "metadata": {
        "id": "yP5MRDswJ7q1",
        "colab_type": "code",
        "colab": {
          "base_uri": "https://localhost:8080/",
          "height": 68
        },
        "outputId": "23a0a8cf-48ba-4855-b2a3-2f7507058573"
      },
      "source": [
        "# Median\n",
        "try:\n",
        "    print(\"The median price in Brooklyn is \" + str(brooklyn_median))\n",
        "except NameError:\n",
        "    print(\"The median price in Brooklyn is not yet defined.\")\n",
        "try:\n",
        "    print(\"The median price in Manhattan is \" + str(manhattan_median))\n",
        "except NameError:\n",
        "    print(\"The median price in Manhattan is not yet defined.\")\n",
        "try:\n",
        "    print(\"The median price in Queens is \" + str(queens_median))\n",
        "except NameError:\n",
        "    print(\"The median price in Queens is not yet defined.\")"
      ],
      "execution_count": 6,
      "outputs": [
        {
          "output_type": "stream",
          "text": [
            "The median price in Brooklyn is 3000.0\n",
            "The median price in Manhattan is 3800.0\n",
            "The median price in Queens is 2200.0\n"
          ],
          "name": "stdout"
        }
      ]
    },
    {
      "cell_type": "code",
      "metadata": {
        "id": "FD35ispWJ-dh",
        "colab_type": "code",
        "colab": {
          "base_uri": "https://localhost:8080/",
          "height": 68
        },
        "outputId": "9bc54341-4a1b-4398-acdd-25934232648e"
      },
      "source": [
        "#Mode\n",
        "try:\n",
        "    print(\"The mode price in Brooklyn is \" + str(brooklyn_mode[0][0]) + \" and it appears \" + str(brooklyn_mode[1][0]) + \" times out of \" + str(len(brooklyn_price)))\n",
        "except NameError:\n",
        "    print(\"The mode price in Brooklyn is not yet defined.\")\n",
        "try:\n",
        "    print(\"The mode price in Manhattan is \" + str(manhattan_mode[0][0]) + \" and it appears \" + str(manhattan_mode[1][0]) + \" times out of \" + str(len(manhattan_price)))\n",
        "except NameError:\n",
        "    print(\"The mode price in Manhattan is not yet defined.\")\n",
        "try:\n",
        "    print(\"The mode price in Queens is \" + str(queens_mode[0][0]) + \" and it appears \" + str(queens_mode[1][0]) + \" times out of \" + str(len(queens_price)))\n",
        "except NameError:\n",
        "    print(\"The mode price in Queens is not yet defined.\")\n"
      ],
      "execution_count": 10,
      "outputs": [
        {
          "output_type": "stream",
          "text": [
            "The mode price in Brooklyn is 2500 and it appears 26 times out of 1013\n",
            "The mode price in Manhattan is 3500 and it appears 56 times out of 1476\n",
            "The mode price in Queens is 1750 and it appears 11 times out of 232\n"
          ],
          "name": "stdout"
        }
      ]
    },
    {
      "cell_type": "code",
      "metadata": {
        "id": "OHjjPsAkPLAx",
        "colab_type": "code",
        "colab": {}
      },
      "source": [
        "b_mode = 2500\n",
        "m_mode = 3500\n",
        "q_mode = 1750"
      ],
      "execution_count": 37,
      "outputs": []
    },
    {
      "cell_type": "markdown",
      "metadata": {
        "id": "iIX2OHQYQWSD",
        "colab_type": "text"
      },
      "source": [
        "We don’t find the mean, median, and mode of a dataset for the sake of it.\n",
        "\n",
        "The point is to make inferences from our data. What can you say about the housing prices in Brooklyn, Queens, and Manhattan? Besides, “It’s really expensive to live in any of them.”"
      ]
    },
    {
      "cell_type": "markdown",
      "metadata": {
        "id": "hRCBJr77Qbz1",
        "colab_type": "text"
      },
      "source": [
        "It looks like the average cost of one-bedroom apartments in Manhattan is the most, and in Queens is the least. This pattern holds for the median and mode values as well.\n",
        "\n",
        "While the mode is not the most important indicator of centrality, the fact that mean, median, and mode are within a few hundred dollars for each borough indicates the data is centered around:\n",
        "\n",
        "*  $3,300 for Brooklyn\n",
        "\n",
        "*  $3,900 for Manhattan\n",
        "\n",
        "\n",
        "*  $2,300 for Queens"
      ]
    },
    {
      "cell_type": "code",
      "metadata": {
        "id": "D5tQ1nhyKBlH",
        "colab_type": "code",
        "colab": {
          "base_uri": "https://localhost:8080/",
          "height": 295
        },
        "outputId": "c0a31e68-bdc0-4ceb-f5f7-c29497af1f60"
      },
      "source": [
        "# Plot the figure\n",
        "plt.hist(brooklyn_price, range=(0, 10000),  edgecolor='black')\n",
        "plt.title(\"Brooklyn 1 Bedroom Price\")\n",
        "plt.xlabel(\"Cost\")\n",
        "plt.ylabel(\"Count\")\n",
        "plt.axvline(brooklyn_mean, color='r', linestyle='solid', linewidth=2, label=\"mean\")\n",
        "plt.axvline(brooklyn_median, color='y', linestyle='dotted', linewidth=3, label=\"median\")\n",
        "plt.axvline(b_mode, color='orange', linestyle='dashed', linewidth=3, label=\"mode\")\n",
        "plt.legend()\n",
        "plt.show()\n"
      ],
      "execution_count": 43,
      "outputs": [
        {
          "output_type": "display_data",
          "data": {
            "image/png": "[encoded data removed]",
            "text/plain": [
              "<Figure size 432x288 with 1 Axes>"
            ]
          },
          "metadata": {
            "tags": [],
            "needs_background": "light"
          }
        }
      ]
    },
    {
      "cell_type": "code",
      "metadata": {
        "id": "PHy3ZklSPJwA",
        "colab_type": "code",
        "colab": {
          "base_uri": "https://localhost:8080/",
          "height": 295
        },
        "outputId": "d8b25067-12e6-426c-e578-421ff27d50fc"
      },
      "source": [
        "# Plot the figure\n",
        "plt.hist(manhattan_price, range=(0, 10000),  edgecolor='black')\n",
        "plt.title(\"Manhattan 1 Bedroom Price\")\n",
        "plt.xlabel(\"Cost\")\n",
        "plt.ylabel(\"Count\")\n",
        "plt.axvline(manhattan_mean, color='r', linestyle='solid', linewidth=2, label=\"mean\")\n",
        "plt.axvline(manhattan_median, color='y', linestyle='dotted', linewidth=3, label=\"median\")\n",
        "plt.axvline(m_mode, color='orange', linestyle='dashed', linewidth=3, label=\"mode\")\n",
        "plt.legend()\n",
        "plt.show()"
      ],
      "execution_count": 44,
      "outputs": [
        {
          "output_type": "display_data",
          "data": {
            "image/png": "[encoded data removed]",
            "text/plain": [
              "<Figure size 432x288 with 1 Axes>"
            ]
          },
          "metadata": {
            "tags": [],
            "needs_background": "light"
          }
        }
      ]
    },
    {
      "cell_type": "code",
      "metadata": {
        "id": "k9KB1fKZKTVq",
        "colab_type": "code",
        "colab": {
          "base_uri": "https://localhost:8080/",
          "height": 295
        },
        "outputId": "1346cb0f-7577-4219-a825-ac9d14beda2e"
      },
      "source": [
        "# Plot the figure\n",
        "plt.hist(queens_price, range=(0, 10000),  edgecolor='black')\n",
        "plt.title(\"Queens 1 Bedroom Price\")\n",
        "plt.xlabel(\"Cost\")\n",
        "plt.ylabel(\"Count\")\n",
        "plt.axvline(queens_mean, color='r', linestyle='solid', linewidth=2, label=\"mean\")\n",
        "plt.axvline(queens_median, color='y', linestyle='dotted', linewidth=3, label=\"median\")\n",
        "plt.axvline(q_mode, color='orange', linestyle='dashed', linewidth=3, label=\"mode\")\n",
        "plt.legend()\n",
        "plt.show()"
      ],
      "execution_count": 45,
      "outputs": [
        {
          "output_type": "display_data",
          "data": {
            "image/png": "[encoded data removed]",
            "text/plain": [
              "<Figure size 432x288 with 1 Axes>"
            ]
          },
          "metadata": {
            "tags": [],
            "needs_background": "light"
          }
        }
      ]
    }
  ]
}